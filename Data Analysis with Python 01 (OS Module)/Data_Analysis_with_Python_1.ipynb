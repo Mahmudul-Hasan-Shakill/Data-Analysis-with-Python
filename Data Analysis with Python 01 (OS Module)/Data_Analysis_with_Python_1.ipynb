{
  "nbformat": 4,
  "nbformat_minor": 0,
  "metadata": {
    "colab": {
      "name": "Data Analysis with Python 1 .ipynb",
      "provenance": []
    },
    "kernelspec": {
      "name": "python3",
      "display_name": "Python 3"
    },
    "language_info": {
      "name": "python"
    }
  },
  "cells": [
    {
      "cell_type": "markdown",
      "source": [
        "# **Data Analysis with Python (OS Module)**"
      ],
      "metadata": {
        "id": "84o_OK8RfN74"
      }
    },
    {
      "cell_type": "markdown",
      "source": [
        "## **1. OS Module**"
      ],
      "metadata": {
        "id": "olYjwGPvetnH"
      }
    },
    {
      "cell_type": "code",
      "execution_count": 1,
      "metadata": {
        "id": "VwsrzLYHelTP"
      },
      "outputs": [],
      "source": [
        "import os"
      ]
    },
    {
      "cell_type": "code",
      "source": [
        "os.getcwd()"
      ],
      "metadata": {
        "colab": {
          "base_uri": "https://localhost:8080/",
          "height": 35
        },
        "id": "hgSntj18e56-",
        "outputId": "f703b687-f129-43aa-81f6-80ecb997015b"
      },
      "execution_count": 2,
      "outputs": [
        {
          "output_type": "execute_result",
          "data": {
            "text/plain": [
              "'/content'"
            ],
            "application/vnd.google.colaboratory.intrinsic+json": {
              "type": "string"
            }
          },
          "metadata": {},
          "execution_count": 2
        }
      ]
    },
    {
      "cell_type": "code",
      "source": [
        "os.listdir()"
      ],
      "metadata": {
        "colab": {
          "base_uri": "https://localhost:8080/"
        },
        "id": "0M7M-Sn0e8s3",
        "outputId": "040fdd6e-0f65-4c88-830b-218865a008b2"
      },
      "execution_count": 3,
      "outputs": [
        {
          "output_type": "execute_result",
          "data": {
            "text/plain": [
              "['.config', 'sample_data']"
            ]
          },
          "metadata": {},
          "execution_count": 3
        }
      ]
    },
    {
      "cell_type": "code",
      "source": [
        "os.makedirs('New Folder')"
      ],
      "metadata": {
        "id": "wuahwKZfe-_O"
      },
      "execution_count": 4,
      "outputs": []
    },
    {
      "cell_type": "code",
      "source": [
        "os.listdir()"
      ],
      "metadata": {
        "colab": {
          "base_uri": "https://localhost:8080/"
        },
        "id": "DSHHftQrfAcf",
        "outputId": "9c5e5a58-9304-47ac-ffd7-4a823761ade6"
      },
      "execution_count": 5,
      "outputs": [
        {
          "output_type": "execute_result",
          "data": {
            "text/plain": [
              "['.config', 'New Folder', 'sample_data']"
            ]
          },
          "metadata": {},
          "execution_count": 5
        }
      ]
    }
  ]
}